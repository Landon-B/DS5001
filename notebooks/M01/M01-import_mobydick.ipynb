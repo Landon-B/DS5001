{
 "cells": [
  {
   "cell_type": "markdown",
   "metadata": {},
   "source": [
    "# DS 5001: Code Exercise 1\n",
    "## Landon Blakey\n",
    "## ldb3mj@virginia.edu\n",
    "\n",
    "## -------------------------"
   ]
  },
  {
   "cell_type": "code",
   "execution_count": 1,
   "metadata": {},
   "outputs": [],
   "source": [
    "import pandas as pd"
   ]
  },
  {
   "cell_type": "code",
   "execution_count": 6,
   "metadata": {},
   "outputs": [],
   "source": [
    "lines = open('rc/2701-0.txt', 'r').readlines()"
   ]
  },
  {
   "cell_type": "code",
   "execution_count": 38,
   "metadata": {},
   "outputs": [],
   "source": [
    "mobyDick = pd.DataFrame(lines)\n",
    "mobyDick.rename(columns={0:'data'}, inplace=True)"
   ]
  },
  {
   "cell_type": "markdown",
   "metadata": {},
   "source": [
    "### 1. How many lines does the file have? "
   ]
  },
  {
   "cell_type": "code",
   "execution_count": 47,
   "metadata": {},
   "outputs": [
    {
     "data": {
      "text/plain": [
       "22333"
      ]
     },
     "execution_count": 47,
     "metadata": {},
     "output_type": "execute_result"
    }
   ],
   "source": [
    "len(mobyDick.index)"
   ]
  },
  {
   "cell_type": "markdown",
   "metadata": {},
   "source": [
    "### 2. At what line number does the novel’s contents begin?\n",
    "\n",
    "Let's assume that the novel's contents begin at the line containing \n",
    "\n",
    "\\*** START OF THIS PROJECT GUTENBERG EBOOK MOBY DICK; OR THE WHALE \\***\n",
    "\n",
    "Then below it can be shown that the book starts on line 21"
   ]
  },
  {
   "cell_type": "code",
   "execution_count": 50,
   "metadata": {},
   "outputs": [
    {
     "data": {
      "text/plain": [
       "data    *** START OF THIS PROJECT GUTENBERG EBOOK MOBY...\n",
       "Name: 21, dtype: object"
      ]
     },
     "execution_count": 50,
     "metadata": {},
     "output_type": "execute_result"
    }
   ],
   "source": [
    "bookStart = mobyDick.data.str.startswith('*** START').idxmax()\n",
    "mobyDick.iloc[bookStart,:]"
   ]
  },
  {
   "cell_type": "markdown",
   "metadata": {},
   "source": [
    "### 3. At  what line number does the novel’s content end?\n",
    "\n",
    "Let's assume that the novel's contents end at the line containing\n",
    "\n",
    "\\*** END OF THIS PROJECT GUTENBERG EBOOK MOBY DICK; OR THE WHALE \\***\n",
    "\n",
    "Then below it can be shown that the book ends on line 21971"
   ]
  },
  {
   "cell_type": "code",
   "execution_count": 53,
   "metadata": {},
   "outputs": [
    {
     "data": {
      "text/plain": [
       "data    *** END OF THIS PROJECT GUTENBERG EBOOK MOBY D...\n",
       "Name: 21971, dtype: object"
      ]
     },
     "execution_count": 53,
     "metadata": {},
     "output_type": "execute_result"
    }
   ],
   "source": [
    "bookEnd = mobyDick.data.str.startswith('*** END').idxmax()\n",
    "mobyDick.iloc[bookEnd,:]"
   ]
  }
 ],
 "metadata": {
  "kernelspec": {
   "display_name": "Python 3",
   "language": "python",
   "name": "python3"
  },
  "language_info": {
   "codemirror_mode": {
    "name": "ipython",
    "version": 3
   },
   "file_extension": ".py",
   "mimetype": "text/x-python",
   "name": "python",
   "nbconvert_exporter": "python",
   "pygments_lexer": "ipython3",
   "version": "3.8.5"
  }
 },
 "nbformat": 4,
 "nbformat_minor": 4
}
